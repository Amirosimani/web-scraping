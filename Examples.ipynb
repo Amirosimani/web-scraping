{
 "cells": [
  {
   "cell_type": "code",
   "execution_count": null,
   "metadata": {
    "collapsed": true
   },
   "outputs": [],
   "source": [
    "import requests\n",
    "from bs4  import BeautifulSoup\n",
    "\n",
    "url = 'http://www.showmeboone.com/sheriff/JailResidents/JailResidents.asp'\n",
    "response = requests.get(url)\n",
    "html = response.content\n",
    "print html\n",
    "\n",
    "soup = BeautifulSoup(html)\n",
    "table =  soup.find('table', attrs={'class':'resultsTable'})\n",
    "\n",
    "for row in table.findAll('tr'):\n",
    "    print row.prettify()"
   ]
  }
 ],
 "metadata": {
  "kernelspec": {
   "display_name": "Python 3",
   "language": "python",
   "name": "python3"
  },
  "language_info": {
   "codemirror_mode": {
    "name": "ipython",
    "version": 3
   },
   "file_extension": ".py",
   "mimetype": "text/x-python",
   "name": "python",
   "nbconvert_exporter": "python",
   "pygments_lexer": "ipython3",
   "version": "3.4.2"
  }
 },
 "nbformat": 4,
 "nbformat_minor": 0
}
